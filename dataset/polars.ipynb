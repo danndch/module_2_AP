{
 "cells": [
  {
   "cell_type": "code",
   "execution_count": 1,
   "metadata": {},
   "outputs": [],
   "source": [
    "import polars as pl"
   ]
  },
  {
   "cell_type": "code",
   "execution_count": 2,
   "metadata": {},
   "outputs": [],
   "source": [
    "# Reading the files\n",
    "\n",
    "pl1314 = pl.read_csv('PL13-14.csv')\n",
    "pl1415 = pl.read_csv('PL14-15.csv')\n",
    "pl1516 = pl.read_csv('PL15-16.csv')\n",
    "pl1617 = pl.read_csv('PL16-17.csv')\n",
    "pl1718 = pl.read_csv('PL17-18.csv')\n",
    "pl1819 = pl.read_csv('PL18-19.csv')\n",
    "pl1920 = pl.read_csv('PL19-20.csv')\n",
    "pl2021 = pl.read_csv('PL20-21.csv')\n",
    "\n"
   ]
  },
  {
   "cell_type": "code",
   "execution_count": 3,
   "metadata": {},
   "outputs": [],
   "source": [
    "# Appending the files into one only file\n",
    "\n",
    "premiere = pl.concat([pl1314, pl1415, pl1516, pl1617, pl1718, pl1819, pl1920, pl2021])"
   ]
  },
  {
   "cell_type": "code",
   "execution_count": 4,
   "metadata": {},
   "outputs": [
    {
     "name": "stdout",
     "output_type": "stream",
     "text": [
      "[Int64, Utf8, Int64, Int64, Int64, Int64, Int64, Int64, Int64, Int64]\n"
     ]
    }
   ],
   "source": [
    "import polars as pl\n",
    "\n",
    "\\\n",
    "print(premiere.dtypes)\n"
   ]
  },
  {
   "attachments": {},
   "cell_type": "markdown",
   "metadata": {},
   "source": [
    "## Since we have relagation and promotion how many unique teams we had during the 8 seasons. (distintct function)"
   ]
  },
  {
   "cell_type": "code",
   "execution_count": 5,
   "metadata": {},
   "outputs": [
    {
     "name": "stdout",
     "output_type": "stream",
     "text": [
      "shape: (32, 1)\n",
      "┌─────────────────────────┐\n",
      "│ Team                    │\n",
      "│ ---                     │\n",
      "│ str                     │\n",
      "╞═════════════════════════╡\n",
      "│ Manchester City         │\n",
      "│ Liverpool               │\n",
      "│ Chelsea                 │\n",
      "│ Arsenal                 │\n",
      "│ ...                     │\n",
      "│ Huddersfield Town       │\n",
      "│ Wolverhampton Wanderers │\n",
      "│ Sheffield United        │\n",
      "│ Leeds United            │\n",
      "└─────────────────────────┘\n",
      "Total Teams: 32\n"
     ]
    }
   ],
   "source": [
    "# Select only the \"Team\" column\n",
    "teams = premiere.select(\"Team\")\n",
    "\n",
    "# Get distinct teams\n",
    "distinct_teams = teams.unique()\n",
    "\n",
    "# Count the unique teams\n",
    "team_count = len(distinct_teams)\n",
    "\n",
    "# Print the distinct teams and their count\n",
    "print(distinct_teams)\n",
    "print(\"Total Teams:\", team_count)"
   ]
  },
  {
   "cell_type": "code",
   "execution_count": 6,
   "metadata": {},
   "outputs": [
    {
     "data": {
      "text/html": [
       "<div><style>\n",
       ".dataframe > thead > tr > th,\n",
       ".dataframe > tbody > tr > td {\n",
       "  text-align: right;\n",
       "}\n",
       "</style>\n",
       "<small>shape: (31, 1)</small><table border=\"1\" class=\"dataframe\"><thead><tr><th>Team</th></tr><tr><td>str</td></tr></thead><tbody><tr><td>&quot;Manchester Cit...</td></tr><tr><td>&quot;Liverpool&quot;</td></tr><tr><td>&quot;Chelsea&quot;</td></tr><tr><td>&quot;Arsenal&quot;</td></tr><tr><td>&quot;Everton&quot;</td></tr><tr><td>&quot;Tottenham Hots...</td></tr><tr><td>&quot;Manchester Uni...</td></tr><tr><td>&quot;Southampton&quot;</td></tr><tr><td>&quot;Stoke City&quot;</td></tr><tr><td>&quot;Newcastle Unit...</td></tr><tr><td>&quot;Crystal Palace...</td></tr><tr><td>&quot;Swansea City&quot;</td></tr><tr><td>...</td></tr><tr><td>&quot;Cardiff City&quot;</td></tr><tr><td>&quot; Everton&quot;</td></tr><tr><td>&quot;Leicester City...</td></tr><tr><td>&quot;Burnley&quot;</td></tr><tr><td>&quot;Queens Park Ra...</td></tr><tr><td>&quot;Watford&quot;</td></tr><tr><td>&quot;Bournemouth&quot;</td></tr><tr><td>&quot;Middlesbrough&quot;</td></tr><tr><td>&quot;Brighton &amp; Hov...</td></tr><tr><td>&quot;Huddersfield T...</td></tr><tr><td>&quot;Wolverhampton ...</td></tr><tr><td>&quot;Sheffield Unit...</td></tr></tbody></table></div>"
      ],
      "text/plain": [
       "shape: (31, 1)\n",
       "┌─────────────────────────┐\n",
       "│ Team                    │\n",
       "│ ---                     │\n",
       "│ str                     │\n",
       "╞═════════════════════════╡\n",
       "│ Manchester City         │\n",
       "│ Liverpool               │\n",
       "│ Chelsea                 │\n",
       "│ Arsenal                 │\n",
       "│ ...                     │\n",
       "│ Brighton & Hove Albion  │\n",
       "│ Huddersfield Town       │\n",
       "│ Wolverhampton Wanderers │\n",
       "│ Sheffield United        │\n",
       "└─────────────────────────┘"
      ]
     },
     "execution_count": 6,
     "metadata": {},
     "output_type": "execute_result"
    }
   ],
   "source": [
    "distinct_teams.head(31)\n"
   ]
  },
  {
   "attachments": {},
   "cell_type": "markdown",
   "metadata": {},
   "source": [
    "## Now if we were interested on this 32 teams see their goal difference (goals in favor and goals against) which would have the most and how many"
   ]
  },
  {
   "cell_type": "code",
   "execution_count": 14,
   "metadata": {},
   "outputs": [],
   "source": [
    "# Select the \"Team\" and \"GD_int\" columns\n",
    "q2 = premiere.select([\"Team\", \"GD\"])"
   ]
  },
  {
   "cell_type": "code",
   "execution_count": 22,
   "metadata": {},
   "outputs": [
    {
     "name": "stdout",
     "output_type": "stream",
     "text": [
      "shape: (5, 2)\n",
      "┌───────────────────┬────────────────┐\n",
      "│ Team              ┆ GoalDifference │\n",
      "│ ---               ┆ ---            │\n",
      "│ str               ┆ i64            │\n",
      "╞═══════════════════╪════════════════╡\n",
      "│ Manchester City   ┆ 450            │\n",
      "│ Liverpool         ┆ 295            │\n",
      "│ Chelsea           ┆ 228            │\n",
      "│ Tottenham Hotspur ┆ 206            │\n",
      "│ Manchester United ┆ 195            │\n",
      "└───────────────────┴────────────────┘\n"
     ]
    },
    {
     "name": "stderr",
     "output_type": "stream",
     "text": [
      "C:\\Users\\Dann_\\AppData\\Local\\Temp\\ipykernel_14084\\700812284.py:2: DeprecationWarning: `reverse` is deprecated as an argument to `sort`; use `descending` instead.\n",
      "  premiere.lazy()\n"
     ]
    }
   ],
   "source": [
    "q = (\n",
    "    premiere.lazy()\n",
    "    .groupby(\"Team\")\n",
    "    .agg(pl.sum(\"GD\").alias(\"GoalDifference\"))\n",
    "    .sort(\"GoalDifference\", reverse=True)\n",
    "    .limit(5)\n",
    ")\n",
    "df = q.collect()\n",
    "print(df)"
   ]
  },
  {
   "attachments": {},
   "cell_type": "markdown",
   "metadata": {},
   "source": [
    "## Finally if you were to aggragate all the stats into one data frame to see which teams had the most points during the 8 seasons who would be the first 3 teams with the most points"
   ]
  },
  {
   "cell_type": "code",
   "execution_count": 36,
   "metadata": {},
   "outputs": [
    {
     "name": "stdout",
     "output_type": "stream",
     "text": [
      "shape: (32, 2)\n",
      "┌─────────────────────┬──────────────┐\n",
      "│ Team                ┆ Total_Points │\n",
      "│ ---                 ┆ ---          │\n",
      "│ str                 ┆ i64          │\n",
      "╞═════════════════════╪══════════════╡\n",
      "│ Manchester City     ┆ 674          │\n",
      "│ Liverpool           ┆ 622          │\n",
      "│ Chelsea             ┆ 587          │\n",
      "│ Tottenham Hotspur   ┆ 558          │\n",
      "│ ...                 ┆ ...          │\n",
      "│ Leeds United        ┆ 59           │\n",
      "│ Huddersfield Town   ┆ 53           │\n",
      "│ Queens Park Rangers ┆ 30           │\n",
      "│ Middlesbrough       ┆ 28           │\n",
      "└─────────────────────┴──────────────┘\n"
     ]
    },
    {
     "name": "stderr",
     "output_type": "stream",
     "text": [
      "C:\\Users\\Dann_\\AppData\\Local\\Temp\\ipykernel_14084\\1035251217.py:3: DeprecationWarning: `reverse` is deprecated as an argument to `sort`; use `descending` instead.\n",
      "  premiere\n"
     ]
    }
   ],
   "source": [
    "\n",
    "# Perform the necessary operations to calculate the team with the most points\n",
    "total_stats = (\n",
    "    premiere\n",
    "    .lazy()\n",
    "    .groupby(\"Team\")\n",
    "    .agg(\n",
    "        pl.sum(\"Played\").alias(\"Total_Played\"),\n",
    "        pl.sum(\"Won\").alias(\"Total_Won\"),\n",
    "        pl.sum(\"Drawn\").alias(\"Total_Drawn\"),\n",
    "        pl.sum(\"Lost\").alias(\"Total_Lost\"),\n",
    "        pl.sum(\"GF\").alias(\"Total_GF\"),\n",
    "        pl.sum(\"GA\").alias(\"Total_GA\"),\n",
    "        pl.sum(\"GD\").alias(\"Total_GD\"),\n",
    "        pl.sum(\"Points\").alias(\"Total_Points\")\n",
    "    )\n",
    "    .sort(\"Total_Points\", reverse=True)\n",
    "    .select(\"Team\", \"Total_Points\")\n",
    ")\n",
    "\n",
    "# Print the team with the most points\n",
    "print(total_stats.collect())\n"
   ]
  }
 ],
 "metadata": {
  "kernelspec": {
   "display_name": "Python 3",
   "language": "python",
   "name": "python3"
  },
  "language_info": {
   "codemirror_mode": {
    "name": "ipython",
    "version": 3
   },
   "file_extension": ".py",
   "mimetype": "text/x-python",
   "name": "python",
   "nbconvert_exporter": "python",
   "pygments_lexer": "ipython3",
   "version": "3.10.11"
  },
  "orig_nbformat": 4
 },
 "nbformat": 4,
 "nbformat_minor": 2
}
